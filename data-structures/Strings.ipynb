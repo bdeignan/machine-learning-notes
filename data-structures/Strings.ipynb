{
 "cells": [
  {
   "cell_type": "markdown",
   "metadata": {},
   "source": [
    "# Strings\n",
    "\n",
    "Strings are just character arrays.\n",
    "\n",
    "You should know: \n",
    "- how they're represented in memory\n",
    "- basic operations:\n",
    "    - comparison, copying, joining, splitting, matching\n",
    "    \n",
    "Advanced string processing algorithms often use **hash tables** and dynamic programming. \n",
    "\n",
    "Also shown here:\n",
    "- How to use `functools.reduce` for running sum and use **initializer argument**."
   ]
  },
  {
   "cell_type": "markdown",
   "metadata": {},
   "source": [
    "### 0. String basics\n",
    "\n",
    "Strings are immutable. `s=s[1:]` and `s+='123'` create a new array of character that is then assigned back to `s`.\n",
    "\n",
    "\n",
    "A little warm up. Check is string is palindrome with $O(n)$ time and $O(1)$ space.\n",
    "\n",
    "Like in the **Primitives** notebook, this function takes advantage of complement bitwise operator `~`.\n",
    "\n",
    "Recall:\n",
    "> Returns the complement of x - the number you get by switching each 1 for a 0 and each 0 for a 1. This is the same as -x - 1. \n",
    "\n",
    "So, $\\sim(x-1)==-1*x$ and $\\sim x==-1*(x+1)$. This second fact can be used in palindrome check. "
   ]
  },
  {
   "cell_type": "code",
   "execution_count": 1,
   "metadata": {},
   "outputs": [
    {
     "data": {
      "text/plain": [
       "True"
      ]
     },
     "execution_count": 1,
     "metadata": {},
     "output_type": "execute_result"
    }
   ],
   "source": [
    "# little warm up\n",
    "def is_pdrome(s: str) -> bool:\n",
    "    # s[~i] for i in [0,len(s)] is s[-(i + 1)]\n",
    "    return all(s[i] == s[~i] for i in range(len(s) // 2))\n",
    "\n",
    "is_pdrome('abba')"
   ]
  },
  {
   "cell_type": "code",
   "execution_count": 12,
   "metadata": {},
   "outputs": [
    {
     "name": "stdout",
     "output_type": "stream",
     "text": [
      "3\n",
      "0 a a\n",
      "1 b b\n"
     ]
    }
   ],
   "source": [
    "print(len('racecar') // 2)\n",
    "\n",
    "s = 'racecar'\n",
    "for i in range(len(s) // 2):\n",
    "    print(i, s[i], s[~i])\n",
    "\n",
    "# racecar is odd and you can see how integer division doing the work here.\n",
    "# if palindrome is odd, then middle letter is shared and can be ignored.\n",
    "# if even, all letters are compared in word in the check."
   ]
  },
  {
   "cell_type": "markdown",
   "metadata": {},
   "source": [
    "## 5.1 Interconvert strings and integers\n",
    "\n",
    "Implement methods to take a string representing an integer and return the corresponding integer, and vice versa.\n",
    "\n",
    "The code should handle negative integers and not use any library functions like `int`.\n",
    "\n",
    "> Hint: Build the result one digit at a time.\n",
    "\n",
    "Ingredients for int to str:\n",
    "- The `ord()` function returns an integer representing the Unicode character.\n",
    "- The `chr()` method returns a character (a string) from an integer (represents unicode code point of the character)\n",
    "\n",
    "Ingredients for str to int:\n",
    "- `string.digits` returns the string '0123456789'\n",
    "- `s.index(2)` returns character at index 2 (s is a str).\n",
    "\n",
    "Str to int takes advantage of knowing: A base-10 number $d_2d_1d_0$ encodes the number $10^2*d_2 + 10^1*d_1 + d_0$\n",
    "\n",
    "The efficient way to compute $10^{i+1}$ is to use existing value $10^i$ and multiply that by 10.\n",
    "\n",
    "The elegant solution below is to begin from the leftmost digit and with each succeeding digit, multiply the partial result by 10 and add that digit.\n",
    "\n",
    "For example:\n",
    "> for 314, initialize result as 0, the first iter r=3, in the second r=3X10 + 1 = 31, then in last iter, r = 31X10 + 4 = 314. Again, negative sign is handled as a separate case."
   ]
  },
  {
   "cell_type": "code",
   "execution_count": 17,
   "metadata": {},
   "outputs": [
    {
     "data": {
      "text/plain": [
       "48"
      ]
     },
     "execution_count": 17,
     "metadata": {},
     "output_type": "execute_result"
    }
   ],
   "source": [
    "ord('0')"
   ]
  },
  {
   "cell_type": "code",
   "execution_count": 18,
   "metadata": {},
   "outputs": [],
   "source": [
    "# first int to string can use modulo 10 to get the least significant digit.\n",
    "1 % 10, 123 % 10\n",
    "\n",
    "def int_2_str(x: int) -> str:\n",
    "    '''Since we build character array starting with least significant digit,\n",
    "    then we need to reverse the array when returning it and add negative sign back.\n",
    "    \n",
    "    TIL: working with negative integers can be trick, so handle them separately as a \n",
    "    case here. See how x is always positive.\n",
    "    '''\n",
    "    is_negative = False\n",
    "    if x < 0:\n",
    "        x, is_negative = -x, True\n",
    "    \n",
    "    s = []\n",
    "    while True:\n",
    "        s.append(\n",
    "            chr(ord('0') + x % 10)\n",
    "        )\n",
    "        \n",
    "        x //= 10 # removes least significant digit\n",
    "        if x == 0:\n",
    "            break\n",
    "    \n",
    "    return ('-' if is_negative else '') + ''.join(reversed(s))"
   ]
  },
  {
   "cell_type": "code",
   "execution_count": 19,
   "metadata": {},
   "outputs": [
    {
     "data": {
      "text/plain": [
       "'-123'"
      ]
     },
     "execution_count": 19,
     "metadata": {},
     "output_type": "execute_result"
    }
   ],
   "source": [
    "int_2_str(-123)"
   ]
  },
  {
   "cell_type": "code",
   "execution_count": 29,
   "metadata": {},
   "outputs": [
    {
     "data": {
      "text/plain": [
       "12"
      ]
     },
     "execution_count": 29,
     "metadata": {},
     "output_type": "execute_result"
    }
   ],
   "source": [
    "chr(ord('0') + 2 % 10) # will be 0 if modulo returns 0 otherwise returns unicode of int.\n",
    "123 // 10"
   ]
  },
  {
   "cell_type": "code",
   "execution_count": 44,
   "metadata": {},
   "outputs": [],
   "source": [
    "import functools\n",
    "import string\n",
    "\n",
    "def str_2_int(x: str) -> int:\n",
    "    '''This feels like cheating bc of functools but good to know\n",
    "    that can maybe use these.\n",
    "    '''\n",
    "    return (-1 if s[0] == '-' else 1) * functools.reduce(\n",
    "                lambda running_sum, c: running_sum * 10 + string.digits.index(c),\n",
    "                s[s[0] in '-+':], 0)"
   ]
  },
  {
   "cell_type": "code",
   "execution_count": 45,
   "metadata": {},
   "outputs": [
    {
     "data": {
      "text/plain": [
       "-123"
      ]
     },
     "execution_count": 45,
     "metadata": {},
     "output_type": "execute_result"
    }
   ],
   "source": [
    "str_2_int('-123')"
   ]
  },
  {
   "cell_type": "code",
   "execution_count": 47,
   "metadata": {},
   "outputs": [
    {
     "name": "stdout",
     "output_type": "stream",
     "text": [
      "-123\n"
     ]
    },
    {
     "data": {
      "text/plain": [
       "(1, 12, 123)"
      ]
     },
     "execution_count": 47,
     "metadata": {},
     "output_type": "execute_result"
    }
   ],
   "source": [
    "s = '-123'\n",
    "print(s[False:]) # True/False can be used as 0,1 to slice array\n",
    "# the reduce do this (can you follow how?):\n",
    "0 + 1, 1 * 10 + 2, 12 * 10 + 3"
   ]
  },
  {
   "cell_type": "markdown",
   "metadata": {},
   "source": [
    "#### Aside: `functool.reduce`\n",
    "\n",
    "The reducer above uses optional argument: `initializer` that I haven't seen before.  \"If the optional initializer is present, it is placed before the items of the iterable in the calculation, and serves as a default when the iterable is empty. *If initializer is not given and iterable contains only one item, the first item is returned.*\"\n",
    "\n",
    ">For example, reduce(lambda x, y: x+y, [1, 2, 3, 4, 5]) calculates ((((1+2)+3)+4)+5)"
   ]
  },
  {
   "cell_type": "code",
   "execution_count": 58,
   "metadata": {},
   "outputs": [
    {
     "name": "stdout",
     "output_type": "stream",
     "text": [
      "15\n"
     ]
    },
    {
     "data": {
      "text/plain": [
       "16"
      ]
     },
     "execution_count": 58,
     "metadata": {},
     "output_type": "execute_result"
    }
   ],
   "source": [
    "ll = [1, 2, 3, 4, 5]\n",
    "\n",
    "print(functools.reduce(lambda x, y: x+y,ll))\n",
    "# vs. using initializer \n",
    "functools.reduce(lambda x, y: x+y, ll, 1) # start with x = 1 rathern than x = ll[0] and y in 11[1:]"
   ]
  },
  {
   "cell_type": "code",
   "execution_count": 55,
   "metadata": {},
   "outputs": [
    {
     "ename": "TypeError",
     "evalue": "must be str, not int",
     "output_type": "error",
     "traceback": [
      "\u001b[0;31m---------------------------------------------------------------------------\u001b[0m",
      "\u001b[0;31mTypeError\u001b[0m                                 Traceback (most recent call last)",
      "\u001b[0;32m<ipython-input-55-04ef29549d42>\u001b[0m in \u001b[0;36m<module>\u001b[0;34m\u001b[0m\n\u001b[1;32m      1\u001b[0m \u001b[0;31m# see, 0 [the initializer] replaces `c`, not running_sum, in this case and screws up everything.\u001b[0m\u001b[0;34m\u001b[0m\u001b[0;34m\u001b[0m\u001b[0;34m\u001b[0m\u001b[0m\n\u001b[1;32m      2\u001b[0m functools.reduce(lambda c, running_sum: running_sum * 10 + string.digits.index(c),\n\u001b[0;32m----> 3\u001b[0;31m                 s[s[0] in '-+':], 0)\n\u001b[0m",
      "\u001b[0;32m<ipython-input-55-04ef29549d42>\u001b[0m in \u001b[0;36m<lambda>\u001b[0;34m(c, running_sum)\u001b[0m\n\u001b[1;32m      1\u001b[0m \u001b[0;31m# see, 0 [the initializer] replaces `c`, not running_sum, in this case and screws up everything.\u001b[0m\u001b[0;34m\u001b[0m\u001b[0;34m\u001b[0m\u001b[0;34m\u001b[0m\u001b[0m\n\u001b[0;32m----> 2\u001b[0;31m functools.reduce(lambda c, running_sum: running_sum * 10 + string.digits.index(c),\n\u001b[0m\u001b[1;32m      3\u001b[0m                 s[s[0] in '-+':], 0)\n",
      "\u001b[0;31mTypeError\u001b[0m: must be str, not int"
     ]
    }
   ],
   "source": [
    "# see, 0 [the initializer] replaces `c`, not running_sum, in this case and screws up everything.\n",
    "functools.reduce(lambda c, running_sum: running_sum * 10 + string.digits.index(c),\n",
    "                s[s[0] in '-+':], 0)"
   ]
  }
 ],
 "metadata": {
  "kernelspec": {
   "display_name": "Python 3",
   "language": "python",
   "name": "python3"
  },
  "language_info": {
   "codemirror_mode": {
    "name": "ipython",
    "version": 3
   },
   "file_extension": ".py",
   "mimetype": "text/x-python",
   "name": "python",
   "nbconvert_exporter": "python",
   "pygments_lexer": "ipython3",
   "version": "3.8.4"
  },
  "toc": {
   "base_numbering": 1,
   "nav_menu": {},
   "number_sections": true,
   "sideBar": true,
   "skip_h1_title": false,
   "title_cell": "Table of Contents",
   "title_sidebar": "Contents",
   "toc_cell": false,
   "toc_position": {},
   "toc_section_display": true,
   "toc_window_display": false
  },
  "varInspector": {
   "cols": {
    "lenName": 16,
    "lenType": 16,
    "lenVar": 40
   },
   "kernels_config": {
    "python": {
     "delete_cmd_postfix": "",
     "delete_cmd_prefix": "del ",
     "library": "var_list.py",
     "varRefreshCmd": "print(var_dic_list())"
    },
    "r": {
     "delete_cmd_postfix": ") ",
     "delete_cmd_prefix": "rm(",
     "library": "var_list.r",
     "varRefreshCmd": "cat(var_dic_list()) "
    }
   },
   "types_to_exclude": [
    "module",
    "function",
    "builtin_function_or_method",
    "instance",
    "_Feature"
   ],
   "window_display": false
  }
 },
 "nbformat": 4,
 "nbformat_minor": 4
}
