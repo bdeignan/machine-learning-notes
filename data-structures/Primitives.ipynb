{
 "cells": [
  {
   "cell_type": "markdown",
   "metadata": {},
   "source": [
    "# Primitives\n",
    " _From Chapter 4, **Elements of Programming Interviews in Python**_\n",
    " \n",
    "- Bitops\n",
    "- `random` module"
   ]
  },
  {
   "cell_type": "markdown",
   "metadata": {},
   "source": [
    "## 0. Reminders of bitops"
   ]
  },
  {
   "cell_type": "code",
   "execution_count": 22,
   "metadata": {},
   "outputs": [
    {
     "name": "stdout",
     "output_type": "stream",
     "text": [
      "1: 0b1 1\n",
      "2: 0b10 0\n",
      "3: 0b11 1\n",
      "4: 0b100 0\n",
      "0b1100\n"
     ]
    }
   ],
   "source": [
    "for i in range(1,5):\n",
    "    print(f'{i}:', bin(i), i & 1)\n",
    "    \n",
    "print(bin(12))"
   ]
  },
  {
   "cell_type": "code",
   "execution_count": 31,
   "metadata": {},
   "outputs": [
    {
     "name": "stdout",
     "output_type": "stream",
     "text": [
      "0b1001 0b10\n"
     ]
    }
   ],
   "source": [
    "assert 9 >> 2 == 9 // 2**2 \n",
    "print(bin(9), bin(9>>2))"
   ]
  },
  {
   "cell_type": "code",
   "execution_count": 39,
   "metadata": {},
   "outputs": [
    {
     "name": "stdout",
     "output_type": "stream",
     "text": [
      "0b1001 -0b1010 : -10\n"
     ]
    }
   ],
   "source": [
    "print(bin(9), bin(~9), \":\", ~9)"
   ]
  },
  {
   "cell_type": "markdown",
   "metadata": {},
   "source": [
    "#### XOR\n",
    "```\n",
    "INPUT \tOUTPUT\n",
    "A \tB \tA XOR B\n",
    "0 \t0 \t0\n",
    "0 \t1 \t1\n",
    "1 \t0 \t1\n",
    "1 \t1 \t0 \n",
    "```"
   ]
  },
  {
   "cell_type": "code",
   "execution_count": 164,
   "metadata": {},
   "outputs": [
    {
     "data": {
      "text/plain": [
       "2199023255552.0"
      ]
     },
     "execution_count": 164,
     "metadata": {},
     "output_type": "execute_result"
    }
   ],
   "source": [
    "# XOR!! 1001 XOR 0010\n",
    "9^2\n",
    "\n",
    "2**64/8/1024**2"
   ]
  },
  {
   "cell_type": "code",
   "execution_count": 52,
   "metadata": {},
   "outputs": [
    {
     "data": {
      "text/plain": [
       "True"
      ]
     },
     "execution_count": 52,
     "metadata": {},
     "output_type": "execute_result"
    }
   ],
   "source": [
    "# if 1 exists, raise 2 to the value of that index, then take sum\n",
    "int('110100', 2) == 2**5 + 2**4 + 2**2"
   ]
  },
  {
   "cell_type": "code",
   "execution_count": 151,
   "metadata": {},
   "outputs": [
    {
     "data": {
      "text/plain": [
       "0"
      ]
     },
     "execution_count": 151,
     "metadata": {},
     "output_type": "execute_result"
    }
   ],
   "source": [
    "# the string repr in python is 2 chars longer than actual 1's and 0's used to express int\n",
    "len(bin(1024))-2"
   ]
  },
  {
   "cell_type": "markdown",
   "metadata": {},
   "source": [
    "## 0.1 Random"
   ]
  },
  {
   "cell_type": "code",
   "execution_count": 1,
   "metadata": {},
   "outputs": [
    {
     "name": "stdout",
     "output_type": "stream",
     "text": [
      "Random int in range 28: 27\n",
      "Random int from inclusive range [8,16]: 9\n",
      "Random float: 0.7660879321410823\n",
      "Reorders a sequence (list, string, or tuple): None ['apple', 'banana', 'cherry']\n",
      "Random choice from sequence: cherry\n"
     ]
    }
   ],
   "source": [
    "import random\n",
    "import math\n",
    "\n",
    "A = [\"apple\", \"banana\", \"cherry\"]\n",
    "assert math.isclose(2.12321312323,2.12321312324)\n",
    "print('Random int in range 28:', random.randrange(28))\n",
    "print('Random int from inclusive range [8,16]:', random.randint(8,16))\n",
    "print('Random float:', random.random())\n",
    "print('Reorders a sequence (list, string, or tuple):', random.shuffle(A), A)\n",
    "print('Random choice from sequence:', random.choice(A))"
   ]
  },
  {
   "cell_type": "markdown",
   "metadata": {},
   "source": [
    "## 1. Computing the parity of a word (4.1)\n",
    "_Page 26, section 4.1_\n",
    "\n",
    "> The parity of a binary word is 1 if the number of 1s in the word is odd; otherwise, it's 0.\n",
    "\n",
    "Parity checks are used to detect single bit errors in data sotrage and communication.\n",
    "\n",
    "Prompt: **How would you compute the parity of a very large number of 64-bit words?**\n"
   ]
  },
  {
   "cell_type": "markdown",
   "metadata": {},
   "source": [
    "### a.  Brute force solution = $O(n)$\n",
    "Where $n$ is the length of the word. "
   ]
  },
  {
   "cell_type": "code",
   "execution_count": 154,
   "metadata": {},
   "outputs": [],
   "source": [
    "def parity(x:int) -> int:\n",
    "    result = 0\n",
    "    while x:\n",
    "        # result is 1 if x is\n",
    "        result ^= x & 1 # remember: 1^1 = 0\n",
    "        x >>= 1\n",
    "    return result"
   ]
  },
  {
   "cell_type": "code",
   "execution_count": 156,
   "metadata": {},
   "outputs": [
    {
     "data": {
      "text/plain": [
       "0"
      ]
     },
     "execution_count": 156,
     "metadata": {},
     "output_type": "execute_result"
    }
   ],
   "source": [
    "parity(3)"
   ]
  },
  {
   "cell_type": "markdown",
   "metadata": {},
   "source": [
    "### b. Using x & x-1 trick gets to $O(k)$,  $k<=n$\n",
    "This improves average and best performance. At worst, all bits are set and still must iterate through entire word."
   ]
  },
  {
   "cell_type": "code",
   "execution_count": 159,
   "metadata": {},
   "outputs": [],
   "source": [
    "def parity2(x: int)-> int:\n",
    "    result = 0\n",
    "    while x: \n",
    "        result ^= 1 # alternates b/w 1 and 0\n",
    "        x &= x-1\n",
    "    return result"
   ]
  },
  {
   "cell_type": "markdown",
   "metadata": {},
   "source": [
    "#### Pause for a race:"
   ]
  },
  {
   "cell_type": "code",
   "execution_count": 252,
   "metadata": {},
   "outputs": [
    {
     "name": "stdout",
     "output_type": "stream",
     "text": [
      "2.17 µs ± 121 ns per loop (mean ± std. dev. of 7 runs, 10000 loops each)\n"
     ]
    }
   ],
   "source": [
    "%%timeit -n 10000\n",
    "\n",
    "parity(3200)"
   ]
  },
  {
   "cell_type": "code",
   "execution_count": 253,
   "metadata": {},
   "outputs": [
    {
     "name": "stdout",
     "output_type": "stream",
     "text": [
      "871 ns ± 248 ns per loop (mean ± std. dev. of 7 runs, 10000 loops each)\n"
     ]
    }
   ],
   "source": [
    "%%timeit -n 10000\n",
    "\n",
    "parity2(3200)"
   ]
  },
  {
   "cell_type": "markdown",
   "metadata": {},
   "source": [
    "### c. XOR approach, $O(\\log n)$\n",
    "\n",
    "Two things to remember when doing bit fiddling computations:\n",
    "1. processing multiple bits at a time\n",
    "2. caching results in an array-based lookup table.\n",
    "\n",
    "The XOR of a group of bits IS its parity.\n",
    "\n",
    "```python\n",
    "2^3 == parity(int('1110',2))\n",
    "```\n",
    "\n",
    "So divide a word into subgroups of bits and compute XORs on them. The result bits reflect the parity."
   ]
  },
  {
   "cell_type": "code",
   "execution_count": 209,
   "metadata": {},
   "outputs": [
    {
     "data": {
      "text/plain": [
       "301"
      ]
     },
     "execution_count": 209,
     "metadata": {},
     "output_type": "execute_result"
    }
   ],
   "source": [
    "# Example\n",
    "s = '100101101' # parity is 0\n",
    "int(s, 2)"
   ]
  },
  {
   "cell_type": "code",
   "execution_count": 212,
   "metadata": {},
   "outputs": [
    {
     "data": {
      "text/plain": [
       "18"
      ]
     },
     "execution_count": 212,
     "metadata": {},
     "output_type": "execute_result"
    }
   ],
   "source": [
    "int(s,2) >> 8\n",
    "int(s,2) >> 4"
   ]
  },
  {
   "cell_type": "code",
   "execution_count": 213,
   "metadata": {},
   "outputs": [],
   "source": [
    "# I don't think I could come up with this.\n",
    "# It's just a bitops way to compare bit sequence with itself\n",
    "def parity3(x:int) -> int:\n",
    "    x ^= x >> 32\n",
    "    x ^= x >> 16\n",
    "    x ^= x >> 8\n",
    "    x ^= x >> 4\n",
    "    x ^= x >> 2\n",
    "    x ^= x >> 1\n",
    "    return x & 0x1"
   ]
  },
  {
   "cell_type": "code",
   "execution_count": 215,
   "metadata": {},
   "outputs": [
    {
     "data": {
      "text/plain": [
       "True"
      ]
     },
     "execution_count": 215,
     "metadata": {},
     "output_type": "execute_result"
    }
   ],
   "source": [
    "parity(18) == parity3(18)"
   ]
  },
  {
   "cell_type": "code",
   "execution_count": 263,
   "metadata": {},
   "outputs": [
    {
     "name": "stdout",
     "output_type": "stream",
     "text": [
      "2.25 µs ± 256 ns per loop (mean ± std. dev. of 7 runs, 10000 loops each)\n"
     ]
    }
   ],
   "source": [
    "%%timeit -n 10000\n",
    "\n",
    "parity(3200^10)"
   ]
  },
  {
   "cell_type": "code",
   "execution_count": 262,
   "metadata": {},
   "outputs": [
    {
     "name": "stdout",
     "output_type": "stream",
     "text": [
      "886 ns ± 252 ns per loop (mean ± std. dev. of 7 runs, 10000 loops each)\n"
     ]
    }
   ],
   "source": [
    "%%timeit -n 10000\n",
    "\n",
    "parity3(3200^10)"
   ]
  }
 ],
 "metadata": {
  "kernelspec": {
   "display_name": "Python 3",
   "language": "python",
   "name": "python3"
  },
  "language_info": {
   "codemirror_mode": {
    "name": "ipython",
    "version": 3
   },
   "file_extension": ".py",
   "mimetype": "text/x-python",
   "name": "python",
   "nbconvert_exporter": "python",
   "pygments_lexer": "ipython3",
   "version": "3.7.7"
  }
 },
 "nbformat": 4,
 "nbformat_minor": 4
}
