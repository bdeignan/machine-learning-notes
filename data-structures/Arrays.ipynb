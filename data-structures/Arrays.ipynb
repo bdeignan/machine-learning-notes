{
 "cells": [
  {
   "cell_type": "markdown",
   "metadata": {
    "toc": true
   },
   "source": [
    "<h1>Table of Contents<span class=\"tocSkip\"></span></h1>\n",
    "<div class=\"toc\"><ul class=\"toc-item\"><li><span><a href=\"#Arrays\" data-toc-modified-id=\"Arrays-1\"><span class=\"toc-item-num\">1&nbsp;&nbsp;</span>Arrays</a></span><ul class=\"toc-item\"><li><span><a href=\"#Exercises:\" data-toc-modified-id=\"Exercises:-1.1\"><span class=\"toc-item-num\">1.1&nbsp;&nbsp;</span>Exercises:</a></span><ul class=\"toc-item\"><li><span><a href=\"#Arrays-in-Pythons-are-lists\" data-toc-modified-id=\"Arrays-in-Pythons-are-lists-1.1.1\"><span class=\"toc-item-num\">1.1.1&nbsp;&nbsp;</span>Arrays in Pythons are lists</a></span></li></ul></li><li><span><a href=\"#0.-List-basics-and-examples\" data-toc-modified-id=\"0.-List-basics-and-examples-1.2\"><span class=\"toc-item-num\">1.2&nbsp;&nbsp;</span>0. List basics and examples</a></span><ul class=\"toc-item\"><li><span><a href=\"#5.1-Dutch-flag-problem\" data-toc-modified-id=\"5.1-Dutch-flag-problem-1.2.1\"><span class=\"toc-item-num\">1.2.1&nbsp;&nbsp;</span>5.1 Dutch flag problem</a></span><ul class=\"toc-item\"><li><span><a href=\"#Something-better.\" data-toc-modified-id=\"Something-better.-1.2.1.1\"><span class=\"toc-item-num\">1.2.1.1&nbsp;&nbsp;</span>Something better.</a></span></li></ul></li></ul></li><li><span><a href=\"#Kata:-array.diff\" data-toc-modified-id=\"Kata:-array.diff-1.3\"><span class=\"toc-item-num\">1.3&nbsp;&nbsp;</span>Kata: array.diff</a></span></li><li><span><a href=\"#Kata:-Does-my-number-look-big-in-this?\" data-toc-modified-id=\"Kata:-Does-my-number-look-big-in-this?-1.4\"><span class=\"toc-item-num\">1.4&nbsp;&nbsp;</span>Kata: Does my number look big in this?</a></span></li></ul></li></ul></div>"
   ]
  },
  {
   "cell_type": "markdown",
   "metadata": {},
   "source": [
    "# Arrays\n",
    "\n",
    "- Tradeoff w.r.t. arrays\n",
    "- Interation, insertion and deletion with **singly** and **doubly** linked lists\n",
    "\n",
    "## Exercises:\n",
    "- 5.1, 5.6\n",
    "- **page 40** for top Array tips"
   ]
  },
  {
   "cell_type": "markdown",
   "metadata": {},
   "source": [
    "### Arrays in Pythons are lists\n",
    "\n",
    "## 0. List basics and examples"
   ]
  },
  {
   "cell_type": "code",
   "execution_count": 1,
   "metadata": {},
   "outputs": [
    {
     "data": {
      "text/plain": [
       "[0, 1, 2, 3, 4, 5, 6, 7, 8, 9]"
      ]
     },
     "execution_count": 1,
     "metadata": {},
     "output_type": "execute_result"
    }
   ],
   "source": [
    "list(range(10))"
   ]
  },
  {
   "cell_type": "code",
   "execution_count": 3,
   "metadata": {},
   "outputs": [
    {
     "data": {
      "text/plain": [
       "[0, 1, 1, 1, 1, 1, 1, 1, 1, 1, 1]"
      ]
     },
     "execution_count": 3,
     "metadata": {},
     "output_type": "execute_result"
    }
   ],
   "source": [
    "l = [0] + [1] * 10 \n",
    "l"
   ]
  },
  {
   "cell_type": "code",
   "execution_count": 29,
   "metadata": {},
   "outputs": [
    {
     "name": "stdout",
     "output_type": "stream",
     "text": [
      "[0, 1, 2, 3, 4, 5, 6, 7, 9]\n"
     ]
    },
    {
     "data": {
      "text/plain": [
       "[0, 1, 28, 2, 3, 4, 5, 6, 7, 9]"
      ]
     },
     "execution_count": 29,
     "metadata": {},
     "output_type": "execute_result"
    }
   ],
   "source": [
    "l = list(range(10))\n",
    "l.remove(8)\n",
    "print(l)\n",
    "l.insert(2, 28)\n",
    "l"
   ]
  },
  {
   "cell_type": "markdown",
   "metadata": {},
   "source": [
    "##### (NEW) Copy vs Deepcopy\n",
    "https://www.geeksforgeeks.org/copy-python-deep-copy-shallow-copy/\n",
    "\n",
    "- In Python, Assignment statements do not copy objects, they create bindings between a target and an object.\n",
    "- sometimes a user wants copies that user can modify without automatically modifying the original at the same time, in order to do that we create copies of objects. \n",
    "\n",
    "**Deepcopy**\n",
    "\n",
    "Deep copy is a process in which the copying process occurs recursively. It means first constructing a new collection object and then recursively populating it with copies of the child objects found in the original. The copied object is a _new_ object, and modifying the copy doesn't alter the original.\n",
    "\n",
    "**Shallow copy**\n",
    "\n",
    "A shallow copy means constructing a new collection object and then populating it with references to the child objects found in the original. So, altering the objects at the references alters the original too."
   ]
  },
  {
   "cell_type": "code",
   "execution_count": 40,
   "metadata": {},
   "outputs": [
    {
     "name": "stdout",
     "output_type": "stream",
     "text": [
      "[1, 2, [7, 5], 4]\n",
      "[1, 2, [99, 5], 4]\n",
      "[1, 2, [7, 5], 4]\n"
     ]
    },
    {
     "data": {
      "text/plain": [
       "[1, 2, [7, 5], 4]"
      ]
     },
     "execution_count": 40,
     "metadata": {},
     "output_type": "execute_result"
    }
   ],
   "source": [
    "# importing copy module \n",
    "import copy \n",
    "\n",
    "# initializing list 1 \n",
    "li1 = [1, 2, [3,5], 4] \n",
    "\n",
    "\n",
    "# using copy for shallow copy \n",
    "li2 = copy.copy(li1) \n",
    "# adding and element to new list \n",
    "li2[2][0] = 7\n",
    "print(li1)\n",
    "\n",
    "# using deepcopy for deepcopy \n",
    "li3 = copy.deepcopy(li1) \n",
    "# adding and element to new list \n",
    "li3[2][0] = 99\n",
    "print(li3)\n",
    "print(li1)\n",
    "\n",
    "# this also makes a shallow copy\n",
    "li4 = li1[:]\n",
    "li4"
   ]
  },
  {
   "cell_type": "markdown",
   "metadata": {},
   "source": [
    "List comprehension to flatten a 2-D array:"
   ]
  },
  {
   "cell_type": "code",
   "execution_count": 33,
   "metadata": {},
   "outputs": [
    {
     "name": "stdout",
     "output_type": "stream",
     "text": [
      "[[1, 2, 3], [4, 5, 6, 7]]\n"
     ]
    },
    {
     "data": {
      "text/plain": [
       "[1, 2, 3, 4, 5, 6, 7]"
      ]
     },
     "execution_count": 33,
     "metadata": {},
     "output_type": "execute_result"
    }
   ],
   "source": [
    "M = [list(range(1,4)), list(range(4,8))]\n",
    "print(M)\n",
    "[x for row in M for x in row]"
   ]
  },
  {
   "cell_type": "markdown",
   "metadata": {},
   "source": [
    "### 5.1 Dutch flag problem\n",
    "_page 41_\n",
    "\n",
    "Write a program that takes an array $A$ and an index $i$ in $A$ and rearranges the elements such that all elements less than $A[i]$ (the pivot) appear first, followed by elements equal to the pivot followed last by elements greater than the pivot.\n",
    "\n",
    "For large arrays, an unthoughtful answer could take up a lot of space."
   ]
  },
  {
   "cell_type": "code",
   "execution_count": 69,
   "metadata": {},
   "outputs": [
    {
     "name": "stdout",
     "output_type": "stream",
     "text": [
      "[0, 1, 2, 0, 1, 2, 1, 1, 2, 1]\n",
      "[0, 0, 1, 1, 1, 1, 1, 2, 2, 2]\n"
     ]
    },
    {
     "data": {
      "text/plain": [
       "[0, 0, 1, 1, 1, 1, 1, 2, 2, 2]"
      ]
     },
     "execution_count": 69,
     "metadata": {},
     "output_type": "execute_result"
    }
   ],
   "source": [
    "# naive result that takes a lot of space\n",
    "from typing import List\n",
    "\n",
    "l = [0] + [1] + [2] + [0] + [1,2,1]*2\n",
    "l_o = copy.deepcopy(l)\n",
    "\n",
    "def dutch_flag(pivot_index: int, A: List[int]) -> None:\n",
    "    pivot = A[pivot_index]\n",
    "    red = [x for x in A if x < pivot]\n",
    "    white = [x for x in A if x == pivot]\n",
    "    blue = [x for x in A if x > pivot]\n",
    "    \n",
    "    return red + white + blue\n",
    "\n",
    "print(l)\n",
    "print(dutch_flag(7, l))\n",
    "\n",
    "def dutch_flag_space(pivot_index: int, A: List[int]) -> None:\n",
    "    '''We can save space at cost of more time complexity\n",
    "    '''\n",
    "    pivot = A[pivot_index]\n",
    "    # two passes\n",
    "    for i in range(len(A)):\n",
    "        for j in range(i + 1, len(A)):\n",
    "            if A[j] < pivot:\n",
    "                A[i], A[j] = A[j], A[i]\n",
    "                break\n",
    "                \n",
    "    for i in reversed(range(len(A))):\n",
    "        for j in reversed(range(i)):\n",
    "            if A[j] > pivot:\n",
    "                A[i], A[j] = A[j], A[i]\n",
    "                break\n",
    "\n",
    "dutch_flag_space(7, l_o)\n",
    "l_o"
   ]
  },
  {
   "cell_type": "markdown",
   "metadata": {},
   "source": [
    "#### Something better.\n",
    "\n",
    "The second solution saves space ($O(1)$) but takes time $O(n^2)$ (two passes).\n",
    "\n",
    "The book shows a solution that improves on time complexity, but here's the best one with time $O(n)$ and space $O(1)$."
   ]
  },
  {
   "cell_type": "code",
   "execution_count": 71,
   "metadata": {},
   "outputs": [
    {
     "data": {
      "text/plain": [
       "[0, 0, 1, 1, 1, 1, 1, 2, 2, 2]"
      ]
     },
     "execution_count": 71,
     "metadata": {},
     "output_type": "execute_result"
    }
   ],
   "source": [
    "l = [0] + [1] + [2] + [0] + [1,2,1]*2\n",
    "l_o = copy.deepcopy(l)\n",
    "p = 7\n",
    "\n",
    "def best_dutch_flag(pivot_index: int, A: List[int]) -> None:\n",
    "    pivot = A[pivot_index]\n",
    "    # Keep the following invariants during partitioning:\n",
    "    # bottom group = A[:smaller]\n",
    "    # middle group = A[smaller:equal]\n",
    "    # unclassified group = A[equal:larger]\n",
    "    # top group = A[larger:]\n",
    "    smaller, equal, larger = 0, 0, len(A)\n",
    "    # keep iterating as long as there is an unclassified element: equal<larger\n",
    "    while equal < larger:\n",
    "        # A[equal] is the incoming unclassified element.\n",
    "        if A[equal] < pivot:\n",
    "            A[smaller], A[equal] = A[equal], A[smaller]\n",
    "            smaller, equal = smaller + 1, equal + 1\n",
    "        elif A[equal] == pivot:\n",
    "            equal += 1\n",
    "        else: # A[equal] > pivot\n",
    "            larger -= 1\n",
    "            A[equal], A[larger] = A[larger], A[equal]\n",
    "            \n",
    "best_dutch_flag(p, l_o)\n",
    "\n",
    "l_o"
   ]
  },
  {
   "cell_type": "code",
   "execution_count": 94,
   "metadata": {},
   "outputs": [
    {
     "data": {
      "text/plain": [
       "[0, 1, 0, 1, 2, 1, 2, 1, 2, 2]"
      ]
     },
     "execution_count": 94,
     "metadata": {},
     "output_type": "execute_result"
    }
   ],
   "source": [
    "import random\n",
    "\n",
    "flag = []\n",
    "i = 0\n",
    "length = 900\n",
    "\n",
    "while i < length:\n",
    "    flag.append(random.randrange(3))\n",
    "    i += 1\n",
    "    \n",
    "flag[:10]"
   ]
  },
  {
   "cell_type": "code",
   "execution_count": 95,
   "metadata": {},
   "outputs": [],
   "source": [
    "flag_copy = copy.deepcopy(flag)\n",
    "best_dutch_flag(7, flag_copy)"
   ]
  },
  {
   "cell_type": "code",
   "execution_count": null,
   "metadata": {},
   "outputs": [],
   "source": [
    "# %%timeit -n 10000\n",
    "# # flag_copy = copy.deepcopy(flag)\n",
    "# best_dutch_flag(7, flag_copy)"
   ]
  },
  {
   "cell_type": "code",
   "execution_count": 96,
   "metadata": {},
   "outputs": [
    {
     "name": "stdout",
     "output_type": "stream",
     "text": [
      "[0, 0, 0, 0, 0, 0, 0, 0, 0, 0] [2, 2, 2, 2, 2, 2, 2, 2, 2, 2]\n"
     ]
    }
   ],
   "source": [
    "print(flag_copy[:10], flag_copy[-10:])\n",
    "flag_copy = copy.deepcopy(flag)"
   ]
  },
  {
   "cell_type": "code",
   "execution_count": 97,
   "metadata": {},
   "outputs": [
    {
     "name": "stdout",
     "output_type": "stream",
     "text": [
      "[0, 0, 0, 0, 0, 0, 0, 0, 0, 0] [2, 2, 2, 2, 2, 2, 2, 2, 2, 2]\n"
     ]
    }
   ],
   "source": [
    "dutch_flag_space(7, flag_copy)\n",
    "print(flag_copy[:10], flag_copy[-10:])"
   ]
  },
  {
   "cell_type": "markdown",
   "metadata": {},
   "source": [
    "## Kata: array.diff\n",
    "\n",
    "Your goal in this kata is to implement a difference function, which subtracts one list from another and returns the result.\n",
    "\n",
    "It should remove all values from list a, which are present in list b."
   ]
  },
  {
   "cell_type": "code",
   "execution_count": 1,
   "metadata": {},
   "outputs": [
    {
     "data": {
      "text/plain": [
       "True"
      ]
     },
     "execution_count": 1,
     "metadata": {},
     "output_type": "execute_result"
    }
   ],
   "source": [
    "1 in [1,2]"
   ]
  },
  {
   "cell_type": "code",
   "execution_count": 6,
   "metadata": {},
   "outputs": [],
   "source": [
    "# first attempt: WRONG when duplicates in list a\n",
    "def array_diff(a, b):\n",
    "    # O(1) or O(n)?\n",
    "    remove = set(a).intersection(set(b))\n",
    "    # O(n)\n",
    "    for r in remove:\n",
    "        del a[a.index(r)]\n",
    "        \n",
    "    return a\n",
    "\n",
    "# second attempt:\n",
    "def array_diff2(a, b):\n",
    "    # this must've added some overhead i didnt account for\n",
    "    remove = set(a).intersection(set(b))\n",
    "    return [x for x in a if x not in remove] "
   ]
  },
  {
   "cell_type": "code",
   "execution_count": 8,
   "metadata": {},
   "outputs": [],
   "source": [
    "# community \"Best practice\" solution\n",
    "def array_diff3(a, b):\n",
    "    return [x for x in a if x not in b]\n",
    "\n",
    "# so much simpler than mine"
   ]
  },
  {
   "cell_type": "code",
   "execution_count": 7,
   "metadata": {},
   "outputs": [
    {
     "name": "stdout",
     "output_type": "stream",
     "text": [
      "1.63 µs ± 239 ns per loop (mean ± std. dev. of 7 runs, 1000 loops each)\n"
     ]
    }
   ],
   "source": [
    "%%timeit -n 1000\n",
    "array_diff([1,2,2], [2])"
   ]
  },
  {
   "cell_type": "code",
   "execution_count": 22,
   "metadata": {},
   "outputs": [
    {
     "name": "stdout",
     "output_type": "stream",
     "text": [
      "1.94 µs ± 157 ns per loop (mean ± std. dev. of 7 runs, 1000 loops each)\n"
     ]
    }
   ],
   "source": [
    "%%timeit -n 1000\n",
    "array_diff2([1,2,2], [2])"
   ]
  },
  {
   "cell_type": "code",
   "execution_count": 15,
   "metadata": {},
   "outputs": [
    {
     "name": "stdout",
     "output_type": "stream",
     "text": [
      "1.43 µs ± 544 ns per loop (mean ± std. dev. of 7 runs, 1000 loops each)\n"
     ]
    }
   ],
   "source": [
    "%%timeit -n 1000\n",
    "array_diff3([1,2,2], [2])"
   ]
  },
  {
   "cell_type": "markdown",
   "metadata": {},
   "source": [
    "## Kata: Does my number look big in this?\n",
    "A Narcissistic Number is a positive number which is the sum of its own digits, each raised to the power of the number of digits in a given base. In this Kata, we will restrict ourselves to decimal (base 10).\n",
    "\n",
    "Your code must return true or false depending upon whether the given number is a Narcissistic number in base 10.\n",
    "\n",
    "Error checking for text strings or other invalid inputs is not required, only valid positive non-zero integers will be passed into the function\n",
    "\n",
    "**NOTE**: I don't know how to iterate through an int unless it's a string."
   ]
  },
  {
   "cell_type": "code",
   "execution_count": 48,
   "metadata": {},
   "outputs": [],
   "source": [
    "# first try, uses functools: WRONG\n",
    "import functools\n",
    "\n",
    "def narcissistic( value ):\n",
    "    str_val = str(value)\n",
    "    digits = len(str_val)\n",
    "#     print(str_val.split())\n",
    "    return int(functools.reduce(\n",
    "        lambda x, y: int(x)**digits + int(y)**digits, [str_val]\n",
    "    )) == value"
   ]
  },
  {
   "cell_type": "code",
   "execution_count": 47,
   "metadata": {},
   "outputs": [
    {
     "name": "stdout",
     "output_type": "stream",
     "text": [
      "['122']\n"
     ]
    },
    {
     "data": {
      "text/plain": [
       "122"
      ]
     },
     "execution_count": 47,
     "metadata": {},
     "output_type": "execute_result"
    }
   ],
   "source": [
    "narcissistic(122)"
   ]
  },
  {
   "cell_type": "code",
   "execution_count": 49,
   "metadata": {},
   "outputs": [],
   "source": [
    "# second try, uses functools\n",
    "\n",
    "def narcissistic2( value ):\n",
    "    str_val = str(value)\n",
    "    digits = len(str_val)\n",
    "    total = sum([int(x)**digits for x in str_val])\n",
    "    return total == value"
   ]
  },
  {
   "cell_type": "code",
   "execution_count": 53,
   "metadata": {},
   "outputs": [
    {
     "name": "stdout",
     "output_type": "stream",
     "text": [
      "2.52 µs ± 384 ns per loop (mean ± std. dev. of 7 runs, 500 loops each)\n"
     ]
    }
   ],
   "source": [
    "%%timeit -n 500\n",
    "narcissistic2(7)"
   ]
  },
  {
   "cell_type": "code",
   "execution_count": 55,
   "metadata": {},
   "outputs": [],
   "source": [
    "# Community one-liner solution\n",
    "def narcissistic3(value):\n",
    "    return value == sum(int(x) ** len(str(value)) for x in str(value))"
   ]
  }
 ],
 "metadata": {
  "kernelspec": {
   "display_name": "Python 3",
   "language": "python",
   "name": "python3"
  },
  "language_info": {
   "codemirror_mode": {
    "name": "ipython",
    "version": 3
   },
   "file_extension": ".py",
   "mimetype": "text/x-python",
   "name": "python",
   "nbconvert_exporter": "python",
   "pygments_lexer": "ipython3",
   "version": "3.8.4"
  },
  "toc": {
   "base_numbering": 1,
   "nav_menu": {},
   "number_sections": true,
   "sideBar": true,
   "skip_h1_title": false,
   "title_cell": "Table of Contents",
   "title_sidebar": "Contents",
   "toc_cell": true,
   "toc_position": {
    "height": "calc(100% - 180px)",
    "left": "10px",
    "top": "150px",
    "width": "165px"
   },
   "toc_section_display": true,
   "toc_window_display": true
  },
  "varInspector": {
   "cols": {
    "lenName": 16,
    "lenType": 16,
    "lenVar": 40
   },
   "kernels_config": {
    "python": {
     "delete_cmd_postfix": "",
     "delete_cmd_prefix": "del ",
     "library": "var_list.py",
     "varRefreshCmd": "print(var_dic_list())"
    },
    "r": {
     "delete_cmd_postfix": ") ",
     "delete_cmd_prefix": "rm(",
     "library": "var_list.r",
     "varRefreshCmd": "cat(var_dic_list()) "
    }
   },
   "types_to_exclude": [
    "module",
    "function",
    "builtin_function_or_method",
    "instance",
    "_Feature"
   ],
   "window_display": false
  }
 },
 "nbformat": 4,
 "nbformat_minor": 4
}
