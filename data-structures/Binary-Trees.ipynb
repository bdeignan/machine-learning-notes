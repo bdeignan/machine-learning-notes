{
 "cells": [
  {
   "cell_type": "markdown",
   "metadata": {},
   "source": [
    "# Binary Trees\n",
    "\n",
    "Binary trees are often used as binary _search_ trees. In a binary tree, each node has at most two children, left and right. This introduces the concept of ancestor relationships. A node $n$'s ancestors are nodes that are traversed on the path from the root to $n$.\n",
    "\n",
    "#### Terminology\n",
    "The **depth** of a node $n$ is the number of nodes on the search path from the root to $n$, not including $n$ itself. The **height** of a binary tree is the _maximum depth_ of any node in the tree.\n",
    "\n",
    "A node that has no decendants is called a **leaf**.\n",
    "\n",
    "What is pre-order, in order and post order traversal?\n",
    "\n",
    "#### Big O\n",
    "Full traversal of a tree using recursion has $O(n)$ **time** – where $n$ is the number of nodes – and $O(h)$ **space** where $h$ is the height of the tree.\n",
    "\n",
    "#### Helpful links:\n",
    "- https://www.geeksforgeeks.org/binary-tree-set-2-properties/?ref=lbp\n",
    "\n",
    "\n",
    "## 0. Some basics first\n",
    "Three basic traversals: in order, pre order, post order.\n",
    "\n",
    "Recursive algorithms are well-suited to trees."
   ]
  },
  {
   "cell_type": "code",
   "execution_count": 3,
   "metadata": {},
   "outputs": [],
   "source": [
    "class BinaryTreeNode():\n",
    "    def __init__(self, data=None, left=None, right=None):\n",
    "        self.data = data\n",
    "        self.left = left\n",
    "        self.right = right\n",
    "        \n",
    "def tree_traversal(root: BinaryTreeNode) -> None:\n",
    "    if root:\n",
    "        # Preorder\n",
    "        print('Pre-order %d' % root.data)\n",
    "        tree_traversal(root.left)\n",
    "\n",
    "        # In order\n",
    "        print('In-order %d' % root.data)\n",
    "        tree_traversal(root.right)\n",
    "        \n",
    "        # Post order\n",
    "        print('Post-order %d' % root.data)\n",
    "    "
   ]
  },
  {
   "cell_type": "code",
   "execution_count": 5,
   "metadata": {},
   "outputs": [
    {
     "name": "stdout",
     "output_type": "stream",
     "text": [
      "Pre-order 2\n",
      "Pre-order 1\n",
      "In-order 1\n",
      "Post-order 1\n",
      "In-order 2\n",
      "Pre-order 3\n",
      "In-order 3\n",
      "Post-order 3\n",
      "Post-order 2\n"
     ]
    }
   ],
   "source": [
    "ro = BinaryTreeNode(2)\n",
    "r = BinaryTreeNode(3)\n",
    "l = BinaryTreeNode(1)\n",
    "\n",
    "ro.left = l\n",
    "ro.right = r\n",
    "\n",
    "tree_traversal(ro)"
   ]
  },
  {
   "cell_type": "markdown",
   "metadata": {},
   "source": [
    "### Traversals"
   ]
  },
  {
   "cell_type": "code",
   "execution_count": 31,
   "metadata": {},
   "outputs": [],
   "source": [
    "def preorder_iter(root):\n",
    "    \"\"\"\n",
    "    Returns a list of given tree's nodes as seen during a pre-order traversal.\n",
    "    \"\"\"\n",
    "    stack, res = [root], []\n",
    "    while stack:\n",
    "        node = stack.pop()\n",
    "        if node:\n",
    "            res.append(node.data)\n",
    "            stack += [node.right, node.left]\n",
    "    return res\n",
    "\n",
    "\n",
    "def preorder_recur(root):\n",
    "    \"\"\"\n",
    "    Returns a list of given tree's nodes as seen during a pre-order traversal.\n",
    "    \"\"\"\n",
    "    res = []\n",
    "    def helper(node):\n",
    "        if not node: return\n",
    "        res.append(node.data)\n",
    "        helper(node.left)\n",
    "        helper(node.right)\n",
    "    helper(root)\n",
    "    return res\n",
    "\n",
    "def in_order_recur(root):\n",
    "    \"\"\"\n",
    "    Returns a list of given tree's nodes as seen during an in-order traversal.\n",
    "    \"\"\"\n",
    "    res = []\n",
    "    def helper(node):\n",
    "        if not node: return\n",
    "        helper(node.left)\n",
    "        res.append(node.data)\n",
    "        helper(node.right)\n",
    "    helper(root)\n",
    "    return res\n",
    "\n",
    "def in_order_iter(root):\n",
    "    \"\"\"\n",
    "    Returns a list of given tree's nodes as seen during an in-order traversal.\n",
    "    \"\"\"\n",
    "    stack, res = [], []\n",
    "    node = root\n",
    "    while node or stack:\n",
    "        while node:\n",
    "            stack.append(node)\n",
    "            node = node.left\n",
    "        node = stack.pop()\n",
    "        res.append(node.data)\n",
    "        node = node.right\n",
    "    return res\n",
    "\n",
    "def post_order_recur(root):\n",
    "    \"\"\"\n",
    "    Returns a list of given tree's nodes as seen during a post-order traversal.\n",
    "    \"\"\"\n",
    "    res = []\n",
    "    def helper(node):\n",
    "        if not node: return\n",
    "        helper(node.left)\n",
    "        helper(node.right)\n",
    "        res.append(node.data)\n",
    "    helper(root)\n",
    "    return res\n",
    "\n",
    "def post_order_iter(root):\n",
    "    \"\"\"\n",
    "    Returns a list of given tree's nodes as seen during a post-order traversal.\n",
    "    \"\"\"\n",
    "    if not root: return None\n",
    "    stack, res = [root], []\n",
    "    prev = None\n",
    "    while stack:\n",
    "        curr = stack[-1]\n",
    "        if not prev or curr is prev.left or curr is prev.right:\n",
    "            if curr.left: stack.append(curr.left)\n",
    "            elif curr.right: stack.append(curr.right)\n",
    "        elif prev is curr.left:\n",
    "            if curr.right: stack.append(curr.right)\n",
    "        else:\n",
    "            res.append(stack.pop().data)\n",
    "        prev = curr\n",
    "    return res\n",
    "\n",
    "def level_order(root):\n",
    "    \"\"\"\n",
    "    Returns a list of given tree's nodes as seen during a level-order traversal.\n",
    "    \"\"\"\n",
    "    if not root: return []\n",
    "    \n",
    "    res = []\n",
    "    curr_level = [root]\n",
    "    \n",
    "    while curr_level:\n",
    "        res.append([node.data for node in curr_level])\n",
    "        curr_level = [child for node in curr_level for child in (node.left, node.right) if child]\n",
    "#         curr_level = []\n",
    "#         for node in curr_level:\n",
    "#             if node.left: curr_level.append(node.left)\n",
    "#             if node.right: curr_level.append(node.eight)\n",
    "    \n",
    "    return res"
   ]
  },
  {
   "cell_type": "code",
   "execution_count": 30,
   "metadata": {},
   "outputs": [
    {
     "data": {
      "text/plain": [
       "[2, 1, 3]"
      ]
     },
     "execution_count": 30,
     "metadata": {},
     "output_type": "execute_result"
    }
   ],
   "source": [
    "preorder_recur(ro)"
   ]
  },
  {
   "cell_type": "markdown",
   "metadata": {},
   "source": [
    "## 9.1 Test if tree is height-balanced\n",
    "Each binary tree consists of a root node, a left subtree and a right subtree. Given a binary tree, do the left and right subtrees have the same height? Checking this assures that search time is consistent to any leaf.\n",
    "\n",
    "**Prompt**: Write a program that takes as input the root of a binary tree and checks whether the tree is height balanced. A tree is said to be height-balanced if the difference between its left and right subtrees' height is at most 1.\n"
   ]
  },
  {
   "cell_type": "code",
   "execution_count": 46,
   "metadata": {},
   "outputs": [],
   "source": [
    "import collections\n",
    "\n",
    "# brute force doing pre-order traversal\n",
    "def is_balanced(root: BinaryTreeNode) -> bool:\n",
    "    BalancedWithHeight = collections.namedtuple(\n",
    "        'BalanceStatusHeight', ('balanced', 'height'))\n",
    "    \n",
    "    # First value of the return value indicates if tree is balanced, and if\n",
    "    # balanced the second value of the return value is the height of tree.\n",
    "    def check_balance(tree):\n",
    "        if not tree:\n",
    "            return BalancedWithHeight(True, -1)\n",
    "        \n",
    "        print('Visiting: %d' % tree.data)\n",
    "        left_result = check_balance(tree.left)\n",
    "        if not left_result.balanced:\n",
    "            return BalancedWithHeight(False, 0)\n",
    "        \n",
    "        right_result = check_balance(tree.right)\n",
    "        if not right_result.balanced:\n",
    "            return BalancedWithHeight(False, 0)\n",
    "        \n",
    "        is_balanced = abs(left_result.height - right_result.height) <= 1\n",
    "        height = max(left_result.height, right_result.height) + 1\n",
    "        return BalancedWithHeight(is_balanced, height)\n",
    "    \n",
    "    return check_balance(root).balanced"
   ]
  },
  {
   "cell_type": "code",
   "execution_count": 43,
   "metadata": {},
   "outputs": [],
   "source": [
    "# balanced\n",
    "ro = BinaryTreeNode(2)\n",
    "r = BinaryTreeNode(3)\n",
    "l = BinaryTreeNode(1)\n",
    "\n",
    "ro.left = l\n",
    "ro.right = r\n",
    "\n",
    "# unbalanced\n",
    "r2 = BinaryTreeNode(3)\n",
    "r3 = BinaryTreeNode(4)\n",
    "r4 = BinaryTreeNode(5)\n",
    "r5 = BinaryTreeNode(6)\n",
    "\n",
    "ruro = BinaryTreeNode(2)\n",
    "ruro.left = l\n",
    "ruro.right = r2\n",
    "r2.right = r3\n",
    "r3.right = r4\n",
    "r4.right = r5"
   ]
  },
  {
   "cell_type": "code",
   "execution_count": 44,
   "metadata": {},
   "outputs": [
    {
     "name": "stdout",
     "output_type": "stream",
     "text": [
      "Visiting: 2\n",
      "Visiting: 1\n",
      "Visiting: 3\n"
     ]
    },
    {
     "data": {
      "text/plain": [
       "True"
      ]
     },
     "execution_count": 44,
     "metadata": {},
     "output_type": "execute_result"
    }
   ],
   "source": [
    "is_balanced(ro)"
   ]
  },
  {
   "cell_type": "code",
   "execution_count": 45,
   "metadata": {},
   "outputs": [
    {
     "name": "stdout",
     "output_type": "stream",
     "text": [
      "Visiting: 2\n",
      "Visiting: 1\n",
      "Visiting: 3\n",
      "Visiting: 4\n",
      "Visiting: 5\n",
      "Visiting: 6\n"
     ]
    },
    {
     "data": {
      "text/plain": [
       "False"
      ]
     },
     "execution_count": 45,
     "metadata": {},
     "output_type": "execute_result"
    }
   ],
   "source": [
    "is_balanced(ruro)"
   ]
  },
  {
   "cell_type": "code",
   "execution_count": null,
   "metadata": {},
   "outputs": [],
   "source": []
  },
  {
   "cell_type": "code",
   "execution_count": null,
   "metadata": {},
   "outputs": [],
   "source": []
  }
 ],
 "metadata": {
  "kernelspec": {
   "display_name": "Python 3",
   "language": "python",
   "name": "python3"
  },
  "language_info": {
   "codemirror_mode": {
    "name": "ipython",
    "version": 3
   },
   "file_extension": ".py",
   "mimetype": "text/x-python",
   "name": "python",
   "nbconvert_exporter": "python",
   "pygments_lexer": "ipython3",
   "version": "3.7.7"
  }
 },
 "nbformat": 4,
 "nbformat_minor": 4
}
