{
 "cells": [
  {
   "cell_type": "markdown",
   "metadata": {
    "toc": true
   },
   "source": [
    "<h1>Problems<span class=\"tocSkip\"></span></h1>\n",
    "<div class=\"toc\"><ul class=\"toc-item\"><li><span><a href=\"#Problem-1:-Stonks\" data-toc-modified-id=\"Problem-1:-Stonks-1\">Problem 1: Stonks</a></span></li><li><span><a href=\"#Problem-2:-High-scores\" data-toc-modified-id=\"Problem-2:-High-scores-2\">Problem 2: High scores</a></span><ul class=\"toc-item\"><li><ul class=\"toc-item\"><li><span><a href=\"#Merge-Sort\" data-toc-modified-id=\"Merge-Sort-2.0.1\">Merge Sort</a></span></li></ul></li></ul></li></ul></div>"
   ]
  },
  {
   "cell_type": "markdown",
   "metadata": {},
   "source": [
    "## Problem 1: Stonks\n",
    "\n",
    "\n",
    "[Link](https://www.interviewcake.com/question/python/stock-price?utm_source=drip&utm_medium=email&utm_campaign=Our%207%20most%20important%20coding%20interview%20tips%20(1%20a%20day%20for%20a%20week,%20unsubscribe%20any%20time)&utm_content=Patterns%20for%20breaking%20down%20questions%20you%20haven%27t%20seen%20before).\n",
    "\n",
    "Write an efficient function that takes stock_prices and returns the best profit I could have made from one purchase and one sale of one share of Apple stock yesterday.\n",
    "\n",
    "```pythonstock_prices = [10, 7, 5, 8, 11, 9]\n",
    "\n",
    "get_max_profit(stock_prices)\n",
    "# Returns 6 (buying for $5 and selling for $11)\n",
    "```\n",
    "\n",
    "No \"shorting\"—you need to buy before you can sell. Also, you can't buy and sell in the same time step."
   ]
  },
  {
   "cell_type": "code",
   "execution_count": 1,
   "metadata": {},
   "outputs": [],
   "source": [
    "stock_prices = [10, 7, 5, 8, 11, 9]"
   ]
  },
  {
   "cell_type": "markdown",
   "metadata": {},
   "source": [
    "Tip: \n",
    "\n",
    "So for every price, we’ll need to:\n",
    "- keep track of the lowest price we’ve seen so far\n",
    "- see if we can get a better profit"
   ]
  },
  {
   "cell_type": "code",
   "execution_count": 13,
   "metadata": {},
   "outputs": [],
   "source": [
    "def brute_get_max_profit(prices: list) -> float:\n",
    "    max_profit = 0\n",
    "\n",
    "    # Go through every price (with its index as the time)\n",
    "    for earlier_time, earlier_price in enumerate(stock_prices):\n",
    "\n",
    "        # And go through all the LATER prices\n",
    "        for later_time in range(earlier_time + 1, len(stock_prices)):\n",
    "            later_price = stock_prices[later_time]\n",
    "\n",
    "            # See what our profit would be if we bought at the\n",
    "            # earlier price and sold at the later price\n",
    "            potential_profit = later_price - earlier_price\n",
    "\n",
    "            # Update max_profit if we can do better\n",
    "            max_profit = max(max_profit, potential_profit)\n",
    "\n",
    "    return max_profit"
   ]
  },
  {
   "cell_type": "code",
   "execution_count": 11,
   "metadata": {},
   "outputs": [],
   "source": [
    "def first_get_max_profit(prices: list) -> float:\n",
    "    max_profit = 0\n",
    "    \n",
    "    \n",
    "    for i, price in enumerate(prices[1:]):\n",
    "        current_profit = price - min(prices[:i+1])\n",
    "        max_profit = max(max_profit, current_profit)\n",
    "        \n",
    "    return max_profit"
   ]
  },
  {
   "cell_type": "code",
   "execution_count": 49,
   "metadata": {},
   "outputs": [],
   "source": [
    "def second_get_max_profit(prices: list) -> float:\n",
    "    # if there's a global profit, return it\n",
    "    if prices.index(max(prices)) > prices.index(min(prices)):\n",
    "        return max(prices) - min(prices)\n",
    "    \n",
    "    max_profit = 0\n",
    "    \n",
    "    for i, price in enumerate(prices[1:]):\n",
    "        current_profit = price - min(prices[:i+1])\n",
    "        max_profit = max(max_profit, current_profit)\n",
    "        \n",
    "    return max_profit"
   ]
  },
  {
   "cell_type": "code",
   "execution_count": 92,
   "metadata": {},
   "outputs": [
    {
     "name": "stdout",
     "output_type": "stream",
     "text": [
      "2.81 µs ± 59.9 ns per loop (mean ± std. dev. of 7 runs, 100000 loops each)\n"
     ]
    }
   ],
   "source": [
    "%%timeit\n",
    "first_get_max_profit(stock_prices)"
   ]
  },
  {
   "cell_type": "code",
   "execution_count": 91,
   "metadata": {},
   "outputs": [
    {
     "name": "stdout",
     "output_type": "stream",
     "text": [
      "5.65 µs ± 104 ns per loop (mean ± std. dev. of 7 runs, 100000 loops each)\n"
     ]
    }
   ],
   "source": [
    "%%timeit\n",
    "brute_get_max_profit(stock_prices)"
   ]
  },
  {
   "cell_type": "code",
   "execution_count": 19,
   "metadata": {},
   "outputs": [],
   "source": [
    "def ic_get_max_profit(stock_prices):\n",
    "    min_price  = stock_prices[0]\n",
    "    max_profit = 0\n",
    "\n",
    "    for current_price in stock_prices:\n",
    "        # Ensure min_price is the lowest price we've seen so far\n",
    "        min_price = min(min_price, current_price)\n",
    "\n",
    "        # See what our profit would be if we bought at the\n",
    "        # min price and sold at the current price\n",
    "        potential_profit = current_price - min_price\n",
    "\n",
    "        # Update max_profit if we can do better\n",
    "        max_profit = max(max_profit, potential_profit)\n",
    "\n",
    "    return max_profit"
   ]
  },
  {
   "cell_type": "code",
   "execution_count": 89,
   "metadata": {},
   "outputs": [
    {
     "name": "stdout",
     "output_type": "stream",
     "text": [
      "2.38 µs ± 54.2 ns per loop (mean ± std. dev. of 7 runs, 100000 loops each)\n"
     ]
    }
   ],
   "source": [
    "%%timeit\n",
    "ic_get_max_profit(stock_prices)"
   ]
  },
  {
   "cell_type": "code",
   "execution_count": 17,
   "metadata": {},
   "outputs": [
    {
     "data": {
      "text/plain": [
       "0"
      ]
     },
     "execution_count": 17,
     "metadata": {},
     "output_type": "execute_result"
    }
   ],
   "source": [
    "first_get_max_profit([3,2,1])"
   ]
  },
  {
   "cell_type": "code",
   "execution_count": 90,
   "metadata": {},
   "outputs": [
    {
     "name": "stdout",
     "output_type": "stream",
     "text": [
      "1.27 µs ± 15.6 ns per loop (mean ± std. dev. of 7 runs, 1000000 loops each)\n"
     ]
    }
   ],
   "source": [
    "%%timeit\n",
    "second_get_max_profit(stock_prices)"
   ]
  },
  {
   "cell_type": "markdown",
   "metadata": {},
   "source": [
    "## Problem 2: High scores\n",
    "\n",
    "Each round, players receive a score between 0 and 100, which you use to rank them from highest to lowest. So far you're using an algorithm that sorts in O(n\\lg{n})O(nlgn) time, but players are complaining that their rankings aren't updated fast enough. You need a faster sorting algorithm.\n",
    "\n",
    "Write a function that takes:\n",
    "\n",
    "1. a list of unsorted_scoresn \n",
    "2. the highest_possible_score in the game\n",
    "\n",
    "and returns a sorted list of scores in less than $O(n\\log(n))$ time."
   ]
  },
  {
   "cell_type": "code",
   "execution_count": 105,
   "metadata": {},
   "outputs": [],
   "source": [
    "# E.G.\n",
    "unsorted_scores = [37, 89, 41, 65, 91, 53]\n",
    "HIGHEST_POSSIBLE_SCORE = 100\n",
    "\n",
    "# Returns [91, 89, 65, 53, 41, 37]\n",
    "# sort_scores(unsorted_scores, HIGHEST_POSSIBLE_SCORE)"
   ]
  },
  {
   "cell_type": "code",
   "execution_count": 161,
   "metadata": {},
   "outputs": [],
   "source": [
    "import random\n",
    "# setup\n",
    "ARRAY_LENGTH = 100000\n",
    "\n",
    "array = [random.randint(0, 1000) for i in range(ARRAY_LENGTH)]"
   ]
  },
  {
   "cell_type": "code",
   "execution_count": 120,
   "metadata": {},
   "outputs": [],
   "source": [
    "# first try: DO NOT KNOW sorting algos from memory.\n",
    "\n",
    "# a hack could be, in later versions of python, sets\n",
    "# are automatically sorted! Use that and a counter.\n",
    "from collections import Counter\n",
    "\n",
    "def rank_scores(scores: list, high_score) -> list:\n",
    "    counts = Counter(scores)\n",
    "    score_set = set(scores)\n",
    "    retval = []\n",
    "    for score in score_set:\n",
    "        print(score)\n",
    "        retval.extend([score]*counts[score])\n",
    "    \n",
    "    return retval\n",
    "\n",
    "# DOESNT WORK\n",
    "for s in set([37, 89, 41, 6, 91, 53]):\n",
    "    print(s)"
   ]
  },
  {
   "cell_type": "markdown",
   "metadata": {},
   "source": [
    "According to my DSA cheatsheet, Merge Sort is the only one that satisfies the Big-O requirement in this problem."
   ]
  },
  {
   "cell_type": "code",
   "execution_count": 136,
   "metadata": {},
   "outputs": [
    {
     "name": "stdout",
     "output_type": "stream",
     "text": [
      "[1, 3, 5, 78, 21, 45]\n",
      "[3, 21, 5, 78, 45]\n"
     ]
    }
   ],
   "source": [
    "# cheating solution two: put items in Heap and then rreverse pop\n",
    "import heapq\n",
    "\n",
    "H = [21,1,45,78,3,5]\n",
    "# Create the heap\n",
    "heapq.heapify(H)\n",
    "print(H)\n",
    "# Remove element from the heap\n",
    "heapq.heappop(H)\n",
    "print(H)"
   ]
  },
  {
   "cell_type": "code",
   "execution_count": 139,
   "metadata": {},
   "outputs": [],
   "source": [
    "def rank_scores_heap(scores, high):\n",
    "    # linear time according to docs: https://docs.python.org/2/library/heapq.html\n",
    "    heapq.heapify(scores) # N\n",
    "    # heap pop always returns smallest element first\n",
    "    return list(reversed([heapq.heappop(scores) for i in range(len(scores))]))"
   ]
  },
  {
   "cell_type": "code",
   "execution_count": 149,
   "metadata": {},
   "outputs": [
    {
     "name": "stdout",
     "output_type": "stream",
     "text": [
      "1.78 µs ± 166 ns per loop (mean ± std. dev. of 7 runs, 1000 loops each)\n"
     ]
    }
   ],
   "source": [
    "%%timeit -n 1000\n",
    "rank_scores_heap(unsorted_scores, HIGHEST_POSSIBLE_SCORE)"
   ]
  },
  {
   "cell_type": "code",
   "execution_count": 169,
   "metadata": {},
   "outputs": [
    {
     "name": "stdout",
     "output_type": "stream",
     "text": [
      "1.77 µs ± 215 ns per loop (mean ± std. dev. of 7 runs, 1000 loops each)\n"
     ]
    }
   ],
   "source": [
    "%%timeit -n 1000\n",
    "rank_scores_heap(array, HIGHEST_POSSIBLE_SCORE)"
   ]
  },
  {
   "cell_type": "code",
   "execution_count": 171,
   "metadata": {},
   "outputs": [],
   "source": [
    "# IC solution\n",
    "# this works because SCORE is set to equal index value of score_count list\n",
    "# NEAT, i wouldn't have thought of that.\n",
    "def sort_scores(unsorted_scores, highest_possible_score):\n",
    "    # List of 0s at indices 0..highest_possible_score\n",
    "    score_counts = [0] * (highest_possible_score+1)\n",
    "\n",
    "    # Populate score_counts\n",
    "    for score in unsorted_scores:\n",
    "        score_counts[score] += 1\n",
    "\n",
    "    # Populate the final sorted list\n",
    "    sorted_scores = []\n",
    "\n",
    "    # For each item in score_counts\n",
    "    for score in range(len(score_counts) - 1, -1, -1):\n",
    "        count = score_counts[score]\n",
    "\n",
    "        # For the number of times the item occurs\n",
    "        for time in range(count):\n",
    "            # Add it to the sorted list\n",
    "            sorted_scores.append(score)\n",
    "\n",
    "    return sorted_scores\n"
   ]
  },
  {
   "cell_type": "code",
   "execution_count": 176,
   "metadata": {},
   "outputs": [
    {
     "name": "stdout",
     "output_type": "stream",
     "text": [
      "26.6 µs ± 9.68 µs per loop (mean ± std. dev. of 7 runs, 1000 loops each)\n"
     ]
    }
   ],
   "source": [
    "%%timeit -n 1000\n",
    "sort_scores(unsorted_scores, HIGHEST_POSSIBLE_SCORE)"
   ]
  },
  {
   "cell_type": "markdown",
   "metadata": {},
   "source": [
    "Their runtime is terrible, but didn't cheat using built in libs."
   ]
  },
  {
   "cell_type": "markdown",
   "metadata": {},
   "source": [
    "#### Merge Sort\n",
    "Merge Sort is a Divide and Conquer algorithm. It divides input array in two halves, calls itself for the two halves and then merges the two sorted halves. The merge() function is used for merging two halves. The merge(arr, l, m, r) is key process that assumes that arr[l..m] and arr[m+1..r] are sorted and merges the two sorted sub-arrays into one."
   ]
  },
  {
   "cell_type": "code",
   "execution_count": 200,
   "metadata": {},
   "outputs": [],
   "source": [
    "# merge sort from scratch\n",
    "def merge(array, left_index, right_index, middle):\n",
    "    # Make copies of both arrays we're trying to merge\n",
    "\n",
    "    # The second parameter is non-inclusive, so we have to increase by 1\n",
    "    left_copy = array[left_index:middle + 1]\n",
    "    right_copy = array[middle+1:right_index+1]\n",
    "\n",
    "    # Initial values for variables that we use to keep\n",
    "    # track of where we are in each array\n",
    "    left_copy_index = 0\n",
    "    right_copy_index = 0\n",
    "    sorted_index = left_index\n",
    "\n",
    "    # Go through both copies until we run out of elements in one\n",
    "    while left_copy_index < len(left_copy) and right_copy_index < len(right_copy):\n",
    "\n",
    "        # If our left_copy has the smaller element, put it in the sorted\n",
    "        # part and then move forward in left_copy (by increasing the pointer)\n",
    "        if left_copy[left_copy_index] <= right_copy[right_copy_index]:\n",
    "            array[sorted_index] = left_copy[left_copy_index]\n",
    "            left_copy_index = left_copy_index + 1\n",
    "        # Opposite from above\n",
    "        else:\n",
    "            array[sorted_index] = right_copy[right_copy_index]\n",
    "            right_copy_index = right_copy_index + 1\n",
    "\n",
    "        # Regardless of where we got our element from\n",
    "        # move forward in the sorted part\n",
    "        sorted_index = sorted_index + 1\n",
    "\n",
    "    # We ran out of elements either in left_copy or right_copy\n",
    "    # so we will go through the remaining elements and add them\n",
    "    while left_copy_index < len(left_copy):\n",
    "        array[sorted_index] = left_copy[left_copy_index]\n",
    "        left_copy_index = left_copy_index + 1\n",
    "        sorted_index = sorted_index + 1\n",
    "\n",
    "    while right_copy_index < len(right_copy):\n",
    "        array[sorted_index] = right_copy[right_copy_index]\n",
    "        right_copy_index = right_copy_index + 1\n",
    "        sorted_index = sorted_index + 1\n",
    "        \n",
    "        \n",
    "def merge_sort(array, left_index, right_index):\n",
    "    if left_index >= right_index:\n",
    "        return\n",
    "\n",
    "    middle = (left_index + right_index)//2\n",
    "    merge_sort(array, left_index, middle)\n",
    "    merge_sort(array, middle + 1, right_index)\n",
    "    merge(array, left_index, right_index, middle)"
   ]
  },
  {
   "cell_type": "code",
   "execution_count": 201,
   "metadata": {},
   "outputs": [
    {
     "name": "stdout",
     "output_type": "stream",
     "text": [
      "374 ns ± 3.02 ns per loop (mean ± std. dev. of 7 runs, 1000 loops each)\n"
     ]
    }
   ],
   "source": [
    "%%timeit -n 1000\n",
    "merge_sort(unsorted_scores, 0, len(unsorted_scores))"
   ]
  },
  {
   "cell_type": "markdown",
   "metadata": {},
   "source": [
    "HUGE time improvement using merge sort! Wow."
   ]
  }
 ],
 "metadata": {
  "kernelspec": {
   "display_name": "Python 3",
   "language": "python",
   "name": "python3"
  },
  "language_info": {
   "codemirror_mode": {
    "name": "ipython",
    "version": 3
   },
   "file_extension": ".py",
   "mimetype": "text/x-python",
   "name": "python",
   "nbconvert_exporter": "python",
   "pygments_lexer": "ipython3",
   "version": "3.8.4"
  },
  "toc": {
   "base_numbering": 1,
   "nav_menu": {},
   "number_sections": false,
   "sideBar": true,
   "skip_h1_title": false,
   "title_cell": "Problems",
   "title_sidebar": "Contents",
   "toc_cell": true,
   "toc_position": {
    "height": "calc(100% - 180px)",
    "left": "10px",
    "top": "150px",
    "width": "165px"
   },
   "toc_section_display": true,
   "toc_window_display": true
  },
  "varInspector": {
   "cols": {
    "lenName": 16,
    "lenType": 16,
    "lenVar": 40
   },
   "kernels_config": {
    "python": {
     "delete_cmd_postfix": "",
     "delete_cmd_prefix": "del ",
     "library": "var_list.py",
     "varRefreshCmd": "print(var_dic_list())"
    },
    "r": {
     "delete_cmd_postfix": ") ",
     "delete_cmd_prefix": "rm(",
     "library": "var_list.r",
     "varRefreshCmd": "cat(var_dic_list()) "
    }
   },
   "types_to_exclude": [
    "module",
    "function",
    "builtin_function_or_method",
    "instance",
    "_Feature"
   ],
   "window_display": false
  }
 },
 "nbformat": 4,
 "nbformat_minor": 4
}
